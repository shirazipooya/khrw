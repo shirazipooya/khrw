{
 "cells": [
  {
   "cell_type": "code",
   "execution_count": 1,
   "id": "7d290394",
   "metadata": {},
   "outputs": [],
   "source": [
    "import pandas as pd\n",
    "import numpy as np\n",
    "import jalali"
   ]
  },
  {
   "cell_type": "code",
   "execution_count": 2,
   "id": "680de83d",
   "metadata": {},
   "outputs": [],
   "source": [
    "def extract_season(month):\n",
    "    if month in [1, 2, 3]:\n",
    "        return 1, \"Spring\", \"بهار\"\n",
    "    elif month in [4, 5, 6]:\n",
    "        return 2, \"Summer\", \"تابستان\"\n",
    "    elif month in [7, 8, 9]:\n",
    "        return 3,\"Autumn\", \"پاییز\"\n",
    "    elif month in [10, 11, 12]:\n",
    "        return 4, \"Winter\", \"زمستان\"\n",
    "    else:\n",
    "        return None\n",
    "\n",
    "def extract_month_name(month):\n",
    "    if month == 1:\n",
    "        return \"Farvardin\", \"فروردین\"\n",
    "    elif month == 2:\n",
    "        return \"Ordibehesht\", \"اردیبهشت\"\n",
    "    elif month == 3:\n",
    "        return \"Khordad\", \"خرداد\"\n",
    "    elif month == 4:\n",
    "        return \"Tir\", \"تیر\"\n",
    "    elif month == 5:\n",
    "        return \"Mordad\", \"مرداد\"\n",
    "    elif month == 6:\n",
    "        return \"Shahrivar\", \"شهریور\"\n",
    "    elif month == 7:\n",
    "        return \"Mehr\", \"مهر\"\n",
    "    elif month == 8:\n",
    "        return \"Aban\", \"آبان\"\n",
    "    elif month == 9:\n",
    "        return \"Azar\", \"آذر\"\n",
    "    elif month == 10:\n",
    "        return \"Dey\", \"دی\"\n",
    "    elif month == 11:\n",
    "        return \"Bahman\", \"بهمن\"\n",
    "    elif month == 12:\n",
    "        return \"Esfand\", \"اسفند\"\n",
    "    else:\n",
    "        return None\n",
    "\n",
    "def extract_wateryear(month, year):\n",
    "    if month in [7, 8, 9, 10, 11, 12]:\n",
    "        y_1 = year\n",
    "        y_2 = year + 1\n",
    "        return str(y_1) + \"-\" + str(y_2)[2:4]\n",
    "    elif month in [1, 2, 3, 4, 5, 6]:\n",
    "        y_1 = year - 1\n",
    "        y_2 = year\n",
    "        return str(y_1) + \"-\" + str(y_2)[2:4]\n",
    "    else:\n",
    "        return None"
   ]
  },
  {
   "cell_type": "code",
   "execution_count": 3,
   "id": "32850b7b",
   "metadata": {},
   "outputs": [],
   "source": [
    "myDate = pd.DataFrame(\n",
    "    data={\n",
    "        \"timestamp\": pd.to_datetime(\n",
    "            arg=pd.date_range(\n",
    "                start=\"1940-01-01 00:00:00\",\n",
    "                end=\"2041-06-30 00:00:00\",\n",
    "                freq=\"30min\"\n",
    "            ).strftime(\"%Y-%m-%d %H:%M:%S\"),\n",
    "            format=\"%Y-%m-%d %H:%M:%S\"\n",
    "        ).to_list()\n",
    "    }\n",
    ")\n",
    "\n",
    "myDate[\"date_gregorian\"] = myDate[\"timestamp\"].dt.date\n",
    "myDate[\"date\"] = myDate.apply(lambda column: jalali.Gregorian(column[\"date_gregorian\"]).persian_string(), axis=1)\n",
    "myDate[[\"year\", \"month\", \"day\"]] = myDate[\"date\"].str.split(\"-\", 2, expand=True)\n",
    "myDate[[\"year\", \"month\", \"day\"]] = myDate[[\"year\", \"month\", \"day\"]].apply(pd.to_numeric)\n",
    "myDate[\"time\"] = myDate[\"timestamp\"].dt.time\n",
    "myDate[[\"season\", \"season_english\", \"season_persian\"]] = [extract_season(month) for month in myDate[\"month\"]]\n",
    "myDate[[\"month_english\", \"month_persian\"]] = [extract_month_name(month) for month in myDate[\"month\"]]\n",
    "myDate[\"wateryear\"] = [extract_wateryear(month, year) for month, year in zip(myDate[\"month\"], myDate[\"year\"])]\n",
    "myDate[\"date_gregorian\"] = pd.to_datetime(arg=myDate[\"date_gregorian\"], format=\"%Y-%m-%d\")"
   ]
  },
  {
   "cell_type": "code",
   "execution_count": 4,
   "id": "1d392235",
   "metadata": {},
   "outputs": [],
   "source": [
    "myDate.to_parquet('myDate.parquet.gzip',\n",
    "                  compression='gzip')"
   ]
  },
  {
   "cell_type": "code",
   "execution_count": null,
   "id": "0740e561",
   "metadata": {},
   "outputs": [],
   "source": []
  }
 ],
 "metadata": {
  "kernelspec": {
   "display_name": "Python 3",
   "language": "python",
   "name": "python3"
  },
  "language_info": {
   "codemirror_mode": {
    "name": "ipython",
    "version": 3
   },
   "file_extension": ".py",
   "mimetype": "text/x-python",
   "name": "python",
   "nbconvert_exporter": "python",
   "pygments_lexer": "ipython3",
   "version": "3.9.1"
  }
 },
 "nbformat": 4,
 "nbformat_minor": 5
}
